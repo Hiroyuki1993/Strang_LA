{
 "cells": [
  {
   "cell_type": "code",
   "execution_count": 1,
   "metadata": {
    "collapsed": true
   },
   "outputs": [],
   "source": [
    "import numpy as np"
   ]
  },
  {
   "cell_type": "markdown",
   "metadata": {},
   "source": [
    "*Conditions*\n",
    "+ A is square matrix\n",
    "+ Suppose no row exchanges"
   ]
  },
  {
   "cell_type": "code",
   "execution_count": 96,
   "metadata": {
    "collapsed": true
   },
   "outputs": [],
   "source": [
    "# Factorization A=LU\n",
    "def slu(A_):\n",
    "    # 元コードだと行列Aに関して副作用があるので,引数A_を書き換えないようにコピーを作りました\n",
    "    A = A_.copy()\n",
    "    # Aが正方行列かどうかを確認（列数と行数が一致するか）\n",
    "    if (A.shape[0] != A.shape[1]):\n",
    "        print(\"A is not square matrix!\")\n",
    "        return False\n",
    "    n = len(A) # number of dimension\n",
    "    tol = 1.0e-6 # pivotが0かどうかを判定する基準\n",
    "    L = np.zeros(A.size).reshape(n,n) # A.sizeはAの要素数を返します.\n",
    "    U = np.zeros(A.size).reshape(n,n) # reshapeでvectorをmatrix[n,n]に変換.\n",
    "    cost = 0 #計算量カウンター\n",
    "    for k in range(n):\n",
    "        # pivot が0でないかの確認\n",
    "        if np.abs(A[k,k]) < tol:\n",
    "            print(\"A is not invertible!\")\n",
    "            return False\n",
    "        L[k,k] = 1 # 下三角行列の対角要素はすべて1\n",
    "        for i in range(k+1,n):\n",
    "            L[i,k]=A[i,k]/A[k,k] # Elmination matrix の倍率l_{i,k}を求める\n",
    "            for j in range(k+1,n):\n",
    "                A[i,j] = A[i,j] - L[i,k]*A[k,j] # ここでAの対角要素も変化するのが重要\n",
    "                cost += 1\n",
    "        for j in range(k,n): # 上三角行列は対角線より下はすべて0なので計算しない\n",
    "            U[k,j] = A[k,j]\n",
    "            cost +=1\n",
    "    print(\"elimination cost:{0}\".format(cost))\n",
    "    return [L, U]"
   ]
  },
  {
   "cell_type": "code",
   "execution_count": 97,
   "metadata": {
    "collapsed": false
   },
   "outputs": [],
   "source": [
    "A = np.matrix([[1,2],[4,9]])\n",
    "b = np.array([5,21])"
   ]
  },
  {
   "cell_type": "code",
   "execution_count": 98,
   "metadata": {
    "collapsed": false
   },
   "outputs": [
    {
     "name": "stdout",
     "output_type": "stream",
     "text": [
      "elimination cost:4\n",
      "L=[[ 1.  0.]\n",
      " [ 4.  1.]], \n",
      "U=[[ 1.  2.]\n",
      " [ 0.  1.]]\n"
     ]
    }
   ],
   "source": [
    "[L,U] = slu(A)\n",
    "print(\"L={0}, \\nU={1}\".format(L,U))"
   ]
  },
  {
   "cell_type": "code",
   "execution_count": 99,
   "metadata": {
    "collapsed": false
   },
   "outputs": [],
   "source": [
    "def slv(A_, b_):\n",
    "    # まず最初にAをLUに分解する\n",
    "    [L,U] = slu(A_)\n",
    "    b = b_.copy() # 副作用対策\n",
    "    s = 0 # Forward elimination でターゲットとなる対角要素より左側にある値の合計値\n",
    "    t = 0 # Back substitution でターゲットとなる対角要素より右側にある値の合計値\n",
    "    n = len(A_) # number of dimension of A\n",
    "    c = np.zeros(n) # Lc = bの解c\n",
    "    x = np.zeros(n) # solution x\n",
    "    cost = 0 #計算量カウンター\n",
    "    # Forward elimination to solve Lc = b\n",
    "    for k in range(n): # Lは下三角行列なのでForward\n",
    "        for j in range(k):\n",
    "            s = s + L[k,j]*c[j]\n",
    "            cost += 1\n",
    "        c[k] = b[k] - s # Lの対角要素は1なので割り算は不要\n",
    "        s = 0\n",
    "    # Back substitution to solve Ux = c\n",
    "    for k in reversed(range(n)): # Uは上三角行列なのでBackward\n",
    "        for j in range(k+1, n):\n",
    "            t = t + U[k,j]*x[j]\n",
    "            cost += 1\n",
    "        x[k] = (c[k]-t)/U[k,k] # Uの対角要素は1とは限らないので割り算必要\n",
    "        t = 0\n",
    "    print(\"cost of right b:{0}\".format(cost))\n",
    "    return x.T"
   ]
  },
  {
   "cell_type": "code",
   "execution_count": 100,
   "metadata": {
    "collapsed": false
   },
   "outputs": [
    {
     "name": "stdout",
     "output_type": "stream",
     "text": [
      "elimination cost:4\n",
      "cost of right b:2\n"
     ]
    },
    {
     "data": {
      "text/plain": [
       "array([ 3.,  1.])"
      ]
     },
     "execution_count": 100,
     "metadata": {},
     "output_type": "execute_result"
    }
   ],
   "source": [
    "slv(A,b)"
   ]
  },
  {
   "cell_type": "code",
   "execution_count": 101,
   "metadata": {
    "collapsed": false
   },
   "outputs": [],
   "source": [
    "A = np.matrix([[1,1,1],[1,2,3],[1,3,6]])\n",
    "b = np.array([5,7,11])"
   ]
  },
  {
   "cell_type": "code",
   "execution_count": 102,
   "metadata": {
    "collapsed": false
   },
   "outputs": [
    {
     "name": "stdout",
     "output_type": "stream",
     "text": [
      "elimination cost:11\n",
      "cost of right b:6\n"
     ]
    },
    {
     "data": {
      "text/plain": [
       "array([ 5., -2.,  2.])"
      ]
     },
     "execution_count": 102,
     "metadata": {},
     "output_type": "execute_result"
    }
   ],
   "source": [
    "slv(A,b)"
   ]
  },
  {
   "cell_type": "code",
   "execution_count": 85,
   "metadata": {
    "collapsed": false
   },
   "outputs": [
    {
     "data": {
      "text/plain": [
       "2"
      ]
     },
     "execution_count": 85,
     "metadata": {},
     "output_type": "execute_result"
    }
   ],
   "source": []
  },
  {
   "cell_type": "code",
   "execution_count": null,
   "metadata": {
    "collapsed": true
   },
   "outputs": [],
   "source": []
  }
 ],
 "metadata": {
  "kernelspec": {
   "display_name": "Python 3",
   "language": "python",
   "name": "python3"
  },
  "language_info": {
   "codemirror_mode": {
    "name": "ipython",
    "version": 3
   },
   "file_extension": ".py",
   "mimetype": "text/x-python",
   "name": "python",
   "nbconvert_exporter": "python",
   "pygments_lexer": "ipython3",
   "version": "3.5.2"
  }
 },
 "nbformat": 4,
 "nbformat_minor": 0
}
