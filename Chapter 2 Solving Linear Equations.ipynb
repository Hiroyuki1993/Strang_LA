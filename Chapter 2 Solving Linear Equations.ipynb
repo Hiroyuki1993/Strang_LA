{
 "cells": [
  {
   "cell_type": "markdown",
   "metadata": {},
   "source": [
    "# Solving Linear Equations using A=LU\n",
    "ビデオでは触れられていませんでしたが、教科書の第2章の最後の方に Matrix Factorization を使って線形方程式を解くMATLABコードが載っていたので、実際にPythonで試してみました。\n",
    "\n",
    "方針としては、Augmented Matrixを使った例のようにAx=bを一度に解くのではなく、[1]行列AのLU分解, [2]Lによるｂのforward elimination, [3]Uによるｘのback substitution,の3段階に分けて解きます。一見手間が増えているように感じますが、この方法だとAとbを分けて考えることができ、一度AのLU分解を行ってしまえばbが変わっても計算を最初からやり直す必要がないという点で優れているのだそうです。\n",
    "\n",
    "$A=LU, Lc=b, Ux=c$が$Ax=b$と等価であることは、$Ux=c$の両辺にLをかけると$LUx=Lc$になることからわ\n",
    "\n",
    "ビデオだとMatrix Factorizationが線形方程式を解くこととどのように関連しているのかについての記述が薄いように感じますが、実際にはA=LUが第2章のタイトルである\"Solving Linear Equations\"をコンピュータ上で実装する上で欠かせない考え方であることが分かります。"
   ]
  },
  {
   "cell_type": "code",
   "execution_count": 1,
   "metadata": {
    "collapsed": true
   },
   "outputs": [],
   "source": [
    "# Python だとMATLABのようにデフォルトで行列を扱えるわけではないので、numpyモジュールをインポートしました。\n",
    "import numpy as np"
   ]
  },
  {
   "cell_type": "markdown",
   "metadata": {},
   "source": [
    "今回のソルバーはAx=bのAに対して以下の条件を要求します。2番めの条件に関してはPermutation Matrixを取り入れればクリアできるはずなので、また時間のあるときに改修します。\n",
    "+ A は正方行列\n",
    "+ A の対角要素は0でない"
   ]
  },
  {
   "cell_type": "code",
   "execution_count": 2,
   "metadata": {
    "collapsed": true
   },
   "outputs": [],
   "source": [
    "# Factorization A=LU\n",
    "def slu(A_):\n",
    "    # 元コードだと行列Aに関して副作用があるので,引数A_を書き換えないようにコピーを作りました\n",
    "    A = A_.copy()\n",
    "    # Aが正方行列かどうかを確認（列数と行数が一致するか）\n",
    "    if (A.shape[0] != A.shape[1]):\n",
    "        print(\"A is not square matrix!\")\n",
    "        return False\n",
    "    n = len(A) # number of dimension\n",
    "    tol = 1.0e-6 # pivotが0かどうかを判定する基準\n",
    "    L = np.zeros(A.size).reshape(n,n) # A.sizeはAの要素数を返します.\n",
    "    U = np.zeros(A.size).reshape(n,n) # reshapeでvectorをmatrix[n,n]に変換.\n",
    "    cost = 0 #計算量カウンター\n",
    "    for k in range(n):\n",
    "        # pivot が0でないかの確認\n",
    "        if np.abs(A[k,k]) < tol:\n",
    "            print(\"A is not invertible!\")\n",
    "            return False\n",
    "        L[k,k] = 1 # 下三角行列の対角要素はすべて1\n",
    "        for i in range(k+1,n):\n",
    "            L[i,k]=A[i,k]/A[k,k] # Elmination matrix の倍率l_{i,k}を求める\n",
    "            for j in range(k+1,n):\n",
    "                A[i,j] = A[i,j] - L[i,k]*A[k,j] # ここでAの対角要素も変化するのが重要\n",
    "                cost += 1\n",
    "        for j in range(k,n): # 上三角行列は対角線より下はすべて0なので計算しない\n",
    "            U[k,j] = A[k,j]\n",
    "            cost +=1\n",
    "    print(\"factorization cost:{0}\".format(cost))\n",
    "    return [L, U]"
   ]
  },
  {
   "cell_type": "code",
   "execution_count": 5,
   "metadata": {
    "collapsed": false
   },
   "outputs": [],
   "source": [
    "# 教科書p98 Example 3の例で試しました\n",
    "A = np.matrix([[1,2],[4,9]])\n",
    "b = np.array([5,21])"
   ]
  },
  {
   "cell_type": "code",
   "execution_count": 6,
   "metadata": {
    "collapsed": false
   },
   "outputs": [
    {
     "name": "stdout",
     "output_type": "stream",
     "text": [
      "factorization cost:4\n",
      "L=[[ 1.  0.]\n",
      " [ 4.  1.]], \n",
      "U=[[ 1.  2.]\n",
      " [ 0.  1.]]\n"
     ]
    }
   ],
   "source": [
    "[L,U] = slu(A)\n",
    "print(\"L={0}, \\nU={1}\".format(L,U))"
   ]
  },
  {
   "cell_type": "markdown",
   "metadata": {},
   "source": [
    "↑　行列のLU分解のテスト。手計算の結果と合ってます"
   ]
  },
  {
   "cell_type": "code",
   "execution_count": 7,
   "metadata": {
    "collapsed": false
   },
   "outputs": [],
   "source": [
    "def slv(A_, b_):\n",
    "    # まず最初にAをLUに分解する\n",
    "    [L,U] = slu(A_)\n",
    "    b = b_.copy() # 副作用対策\n",
    "    s = 0 # Forward elimination でターゲットとなる対角要素より左側にある値の合計値\n",
    "    t = 0 # Back substitution でターゲットとなる対角要素より右側にある値の合計値\n",
    "    n = len(A_) # number of dimension of A\n",
    "    c = np.zeros(n) # Lc = bの解c\n",
    "    x = np.zeros(n) # solution x\n",
    "    cost = 0 #計算量カウンター\n",
    "    # Forward elimination to solve Lc = b\n",
    "    for k in range(n): # Lは下三角行列なのでForward\n",
    "        for j in range(k):\n",
    "            s = s + L[k,j]*c[j]\n",
    "            cost += 1\n",
    "        c[k] = b[k] - s # Lの対角要素は1なので割り算は不要\n",
    "        s = 0\n",
    "    # Back substitution to solve Ux = c\n",
    "    for k in reversed(range(n)): # Uは上三角行列なのでBackward\n",
    "        for j in range(k+1, n):\n",
    "            t = t + U[k,j]*x[j]\n",
    "            cost += 1\n",
    "        x[k] = (c[k]-t)/U[k,k] # Uの対角要素は1とは限らないので割り算必要\n",
    "        t = 0\n",
    "    print(\"cost of right sides:{0}\".format(cost))\n",
    "    return x.T"
   ]
  },
  {
   "cell_type": "code",
   "execution_count": 8,
   "metadata": {
    "collapsed": false
   },
   "outputs": [
    {
     "name": "stdout",
     "output_type": "stream",
     "text": [
      "factorization cost:4\n",
      "cost of right sides:2\n"
     ]
    },
    {
     "data": {
      "text/plain": [
       "array([ 3.,  1.])"
      ]
     },
     "execution_count": 8,
     "metadata": {},
     "output_type": "execute_result"
    }
   ],
   "source": [
    "slv(A,b)"
   ]
  },
  {
   "cell_type": "code",
   "execution_count": 9,
   "metadata": {
    "collapsed": false
   },
   "outputs": [],
   "source": [
    "# 3 by 3 の行列でも試してみました\n",
    "A = np.matrix([[1,1,1],[1,2,3],[1,3,6]])\n",
    "b = np.array([5,7,11])"
   ]
  },
  {
   "cell_type": "code",
   "execution_count": 10,
   "metadata": {
    "collapsed": false
   },
   "outputs": [
    {
     "name": "stdout",
     "output_type": "stream",
     "text": [
      "factorization cost:11\n",
      "cost of right sides:6\n"
     ]
    },
    {
     "data": {
      "text/plain": [
       "array([ 5., -2.,  2.])"
      ]
     },
     "execution_count": 10,
     "metadata": {},
     "output_type": "execute_result"
    }
   ],
   "source": [
    "slv(A,b)"
   ]
  },
  {
   "cell_type": "code",
   "execution_count": null,
   "metadata": {
    "collapsed": true
   },
   "outputs": [],
   "source": []
  }
 ],
 "metadata": {
  "kernelspec": {
   "display_name": "Python 3",
   "language": "python",
   "name": "python3"
  },
  "language_info": {
   "codemirror_mode": {
    "name": "ipython",
    "version": 3
   },
   "file_extension": ".py",
   "mimetype": "text/x-python",
   "name": "python",
   "nbconvert_exporter": "python",
   "pygments_lexer": "ipython3",
   "version": "3.5.2"
  }
 },
 "nbformat": 4,
 "nbformat_minor": 0
}
