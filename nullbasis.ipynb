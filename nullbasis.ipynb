{
 "cells": [
  {
   "cell_type": "markdown",
   "metadata": {},
   "source": [
    "# Find nullspace matrix N from Rx=0\n",
    "任意の行列Aのnull space matrix Nを計算します。最初は教科書どおりrrefを用いた例を示します。<br>\n",
    "公式のMATLABコードは[こちら](http://web.mit.edu/18.06/www/Course-Info/Mfiles/nulbasis.m)です。\n"
   ]
  },
  {
   "cell_type": "code",
   "execution_count": 5,
   "metadata": {},
   "outputs": [],
   "source": [
    "import numpy as np\n",
    "# numpy,scipyにはrrefを計算する関数はありません。\n",
    "# sympyはsymbolic computationのためのパッケージでnumpyとはかなり性質が異なりますが、pythonでrrefを計算するモジュールはこれしかないのでこれを使います。\n",
    "from sympy import Matrix"
   ]
  },
  {
   "cell_type": "code",
   "execution_count": 6,
   "metadata": {},
   "outputs": [
    {
     "data": {
      "text/plain": [
       "matrix([[1, 2, 0, 3],\n",
       "        [0, 0, 1, 4]])"
      ]
     },
     "execution_count": 6,
     "metadata": {},
     "output_type": "execute_result"
    }
   ],
   "source": [
    "A = np.matrix([[1, 2, 0, 3],[0, 0, 1, 4]])\n",
    "A"
   ]
  },
  {
   "cell_type": "code",
   "execution_count": 7,
   "metadata": {},
   "outputs": [],
   "source": [
    "def nullbasis(A):\n",
    "    # sympyのrref関数はrref行列Rとpivot columnsのindexを返します\n",
    "    R, pivot_col = Matrix(A).rref()\n",
    "    R = np.matrix(R).astype(np.float64)\n",
    "    # ランク＝pivotの数; free columnsの数の決定に必要\n",
    "    r = len(pivot_col)\n",
    "    [m,n] = A.shape\n",
    "    # Null matrix のサイズ＝（columnsの数,free columnsの数）\n",
    "    N = np.zeros((n, n-r))\n",
    "    # free columnsのindex = すべてのカラムのindexからpicot columnsのindexを除外したもの\n",
    "    free_col = np.delete(np.arange(n), pivot_col)\n",
    "    # free columnsの場所にIを代入\n",
    "    N[free_col] = np.eye(n-r)\n",
    "    # pivot columnsの場所には-Rを代入\n",
    "    N[[pivot_col]] = -R[:r, free_col]\n",
    "    return N"
   ]
  },
  {
   "cell_type": "code",
   "execution_count": 8,
   "metadata": {},
   "outputs": [
    {
     "data": {
      "text/plain": [
       "array([[-2., -3.],\n",
       "       [ 1.,  0.],\n",
       "       [-0., -4.],\n",
       "       [ 0.,  1.]])"
      ]
     },
     "execution_count": 8,
     "metadata": {},
     "output_type": "execute_result"
    }
   ],
   "source": [
    "nullbasis(A)"
   ]
  },
  {
   "cell_type": "code",
   "execution_count": 9,
   "metadata": {},
   "outputs": [
    {
     "data": {
      "text/plain": [
       "matrix([[ 1,  3,  2],\n",
       "        [ 2,  6,  4],\n",
       "        [ 2,  8,  6],\n",
       "        [ 2, 10,  8]])"
      ]
     },
     "execution_count": 9,
     "metadata": {},
     "output_type": "execute_result"
    }
   ],
   "source": [
    "A = np.matrix([[1,3,2],[2,6,4],[2,8,6],[2,10,8]])\n",
    "A"
   ]
  },
  {
   "cell_type": "code",
   "execution_count": 10,
   "metadata": {},
   "outputs": [
    {
     "data": {
      "text/plain": [
       "array([[ 1.],\n",
       "       [-1.],\n",
       "       [ 1.]])"
      ]
     },
     "execution_count": 10,
     "metadata": {},
     "output_type": "execute_result"
    }
   ],
   "source": [
    "nullbasis(A)"
   ]
  },
  {
   "cell_type": "markdown",
   "metadata": {},
   "source": [
    "# Find Nullspace matrix N with SVD\n",
    "numpy,scipyにrrefの実装がないことからも分かるとおり、計算機においてはrrefを使って何かを計算することはほぼないそうです。\n",
    "理由は、[大手掲示板](http://numpy-discussion.10968.n7.nabble.com/Reduced-row-echelon-form-td16486.html)によると「rrefはその数が0なのか0に近い小さな数なのかの判断が何回も必要になるので、浮動小数点を使う計算機では完全に使い物にならない」からだそうです。その点て言うと、sympyは数値的な計算ではなく記号の計算をしているのでrrefの計算ができるということなのでしょうか。\n",
    "\n",
    "ともかく、せっかくなので計算機の世界において実用的な方法も少し試してみたいと思います。一番ポピュラーなのはSVDを用いた解法らしいのでSVDを使った解法を試してみます。"
   ]
  },
  {
   "cell_type": "code",
   "execution_count": 11,
   "metadata": {},
   "outputs": [],
   "source": [
    "# -----SVDによる実装（第7章で加筆予定）"
   ]
  },
  {
   "cell_type": "code",
   "execution_count": null,
   "metadata": {},
   "outputs": [],
   "source": []
  }
 ],
 "metadata": {
  "kernelspec": {
   "display_name": "Python 3",
   "language": "python",
   "name": "python3"
  },
  "language_info": {
   "codemirror_mode": {
    "name": "ipython",
    "version": 3
   },
   "file_extension": ".py",
   "mimetype": "text/x-python",
   "name": "python",
   "nbconvert_exporter": "python",
   "pygments_lexer": "ipython3",
   "version": "3.6.4"
  }
 },
 "nbformat": 4,
 "nbformat_minor": 2
}
